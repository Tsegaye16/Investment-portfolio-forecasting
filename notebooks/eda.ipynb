{
 "cells": [
  {
   "cell_type": "code",
   "execution_count": 1,
   "metadata": {},
   "outputs": [
    {
     "name": "stdout",
     "output_type": "stream",
     "text": [
      "YF.download() has changed argument auto_adjust default to True\n"
     ]
    },
    {
     "name": "stderr",
     "output_type": "stream",
     "text": [
      "[*********************100%***********************]  3 of 3 completed"
     ]
    },
    {
     "name": "stdout",
     "output_type": "stream",
     "text": [
      "Price           Close                              High              \\\n",
      "Ticker            BND         SPY       TSLA        BND         SPY   \n",
      "Date                                                                  \n",
      "2020-01-02  72.948753  301.194916  28.684000  73.070378  301.213476   \n",
      "2020-01-03  73.209381  298.914215  29.534000  73.226760  300.054588   \n",
      "2020-01-06  73.122505  300.054565  30.102667  73.244129  300.138003   \n",
      "2020-01-07  73.061707  299.210846  31.270666  73.148580  299.961814   \n",
      "2020-01-08  72.948753  300.805511  32.809334  73.148562  302.038574   \n",
      "\n",
      "Price                        Low                              Open  \\\n",
      "Ticker           TSLA        BND         SPY       TSLA        BND   \n",
      "Date                                                                 \n",
      "2020-01-02  28.713333  72.914003  299.025448  28.114000  72.957443   \n",
      "2020-01-03  30.266666  73.061696  297.699684  29.128000  73.131197   \n",
      "2020-01-06  30.104000  73.070382  297.013570  29.333332  73.235447   \n",
      "2020-01-07  31.441999  73.035645  298.756536  30.224001  73.148580   \n",
      "2020-01-08  33.232666  72.887941  299.155231  31.215334  73.087750   \n",
      "\n",
      "Price                               Volume                       \n",
      "Ticker             SPY       TSLA      BND       SPY       TSLA  \n",
      "Date                                                             \n",
      "2020-01-02  299.961853  28.299999  5511000  59151200  142981500  \n",
      "2020-01-03  297.755309  29.366667  5368300  77709700  266677500  \n",
      "2020-01-06  297.134101  29.364668  3710400  55653900  151995000  \n",
      "2020-01-07  299.479692  30.760000  3029900  40496400  268231500  \n",
      "2020-01-08  299.405545  31.580000  3674400  68296000  467164500  \n"
     ]
    },
    {
     "name": "stderr",
     "output_type": "stream",
     "text": [
      "\n"
     ]
    }
   ],
   "source": [
    "import yfinance as yf\n",
    "\n",
    "# Define the tickers and the time period\n",
    "tickers = ['TSLA', 'BND', 'SPY']\n",
    "start_date = '2020-01-01'\n",
    "end_date = '2023-12-31'\n",
    "\n",
    "# Download the historical data\n",
    "historical_data = yf.download(tickers, start=start_date, end=end_date)\n",
    "\n",
    "# Display the first few rows of the data\n",
    "print(historical_data.head())"
   ]
  },
  {
   "cell_type": "code",
   "execution_count": 2,
   "metadata": {},
   "outputs": [
    {
     "name": "stdout",
     "output_type": "stream",
     "text": [
      "        Date      Close       Open       High        Low     Volume\n",
      "0 2020-01-02  28.684000  28.299999  28.713333  28.114000  142981500\n",
      "1 2020-01-03  29.534000  29.366667  30.266666  29.128000  266677500\n",
      "2 2020-01-06  30.102667  29.364668  30.104000  29.333332  151995000\n",
      "3 2020-01-07  31.270666  30.760000  31.441999  30.224001  268231500\n",
      "4 2020-01-08  32.809334  31.580000  33.232666  31.215334  467164500\n",
      "        Date      Close       Open       High        Low   Volume\n",
      "0 2020-01-02  72.948753  72.957443  73.070378  72.914003  5511000\n",
      "1 2020-01-03  73.209381  73.131197  73.226760  73.061696  5368300\n",
      "2 2020-01-06  73.122505  73.235447  73.244129  73.070382  3710400\n",
      "3 2020-01-07  73.061707  73.148580  73.148580  73.035645  3029900\n",
      "4 2020-01-08  72.948753  73.087750  73.148562  72.887941  3674400\n",
      "        Date       Close        Open        High         Low    Volume\n",
      "0 2020-01-02  301.194916  299.961853  301.213476  299.025448  59151200\n",
      "1 2020-01-03  298.914215  297.755309  300.054588  297.699684  77709700\n",
      "2 2020-01-06  300.054565  297.134101  300.138003  297.013570  55653900\n",
      "3 2020-01-07  299.210846  299.479692  299.961814  298.756536  40496400\n",
      "4 2020-01-08  300.805511  299.405545  302.038574  299.155231  68296000\n"
     ]
    }
   ],
   "source": [
    "# Separate the data for each ticker\n",
    "TSLA_data = historical_data['Close']['TSLA'].reset_index()\n",
    "BND_data = historical_data['Close']['BND'].reset_index()\n",
    "SPY_data = historical_data['Close']['SPY'].reset_index()\n",
    "\n",
    "# Rename the columns to match the desired format\n",
    "TSLA_data.columns = ['Date', 'Close']\n",
    "BND_data.columns = ['Date', 'Close']\n",
    "SPY_data.columns = ['Date', 'Close']\n",
    "\n",
    "# Add the remaining columns (Open, High, Low, Volume) from the original data\n",
    "for ticker, data in zip(['TSLA', 'BND', 'SPY'], [TSLA_data, BND_data, SPY_data]):\n",
    "    data['Open'] = historical_data['Open'][ticker].values\n",
    "    data['High'] = historical_data['High'][ticker].values\n",
    "    data['Low'] = historical_data['Low'][ticker].values\n",
    "    data['Volume'] = historical_data['Volume'][ticker].values\n",
    "\n",
    "# Display the first few rows of each dataframe\n",
    "print(TSLA_data.head())\n",
    "print(BND_data.head())\n",
    "print(SPY_data.head())"
   ]
  },
  {
   "cell_type": "code",
   "execution_count": null,
   "metadata": {},
   "outputs": [],
   "source": []
  }
 ],
 "metadata": {
  "kernelspec": {
   "display_name": "base",
   "language": "python",
   "name": "python3"
  },
  "language_info": {
   "codemirror_mode": {
    "name": "ipython",
    "version": 3
   },
   "file_extension": ".py",
   "mimetype": "text/x-python",
   "name": "python",
   "nbconvert_exporter": "python",
   "pygments_lexer": "ipython3",
   "version": "3.12.3"
  }
 },
 "nbformat": 4,
 "nbformat_minor": 2
}
